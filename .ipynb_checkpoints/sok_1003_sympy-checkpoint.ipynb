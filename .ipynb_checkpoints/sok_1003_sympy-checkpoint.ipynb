{
 "cells": [
  {
   "cell_type": "code",
   "execution_count": 3,
   "id": "e6441459-3428-40d2-9f4d-f9c5efb67416",
   "metadata": {},
   "outputs": [],
   "source": [
    " ##importerer pakker\n",
    "import sympy as sp\n",
    "from sympy.solvers import solve"
   ]
  },
  {
   "cell_type": "code",
   "execution_count": 4,
   "id": "24562f60-3ae4-420e-b055-312ee42ab719",
   "metadata": {},
   "outputs": [
    {
     "data": {
      "text/plain": [
       "{x: -1, y: 2}"
      ]
     },
     "execution_count": 4,
     "metadata": {},
     "output_type": "execute_result"
    }
   ],
   "source": [
    " #1a)\n",
    "x, y  = sp.symbols(\"x y\") #definerer som symbol\n",
    "unknown = [x, y] #legger de ukjente inn i en liste\n",
    "eq_a = [\n",
    "    sp.Eq(2*x+4*y,6),\n",
    "    sp.Eq(-2*x+y, 4)\n",
    "] #definerer et sett med ligninger\n",
    "sp.solve(eq_a, unknown) # løser ligningene mhp x y"
   ]
  },
  {
   "cell_type": "code",
   "execution_count": 5,
   "id": "e742aa70-98e3-4c37-aab6-c79b8df3bed6",
   "metadata": {},
   "outputs": [
    {
     "data": {
      "text/plain": [
       "[(-1, -1), (2, 5)]"
      ]
     },
     "execution_count": 5,
     "metadata": {},
     "output_type": "execute_result"
    }
   ],
   "source": [
    "#1b) \n",
    "#denne løser vi litt annerledes\n",
    "eq_1 = sp.Eq(2*x-y,-1) #definerer hver ligning hver for seg\n",
    "eq_2 = sp.Eq(x**2+x-y, 1)\n",
    "#definerer ligningssettet\n",
    "sp.solve([eq_1, eq_2],unknown) #løser ligningssettet ved å sette de to ligningene inn i en liste, og løser mhpt de ukjente, som vi allerede definerte i 1"
   ]
  },
  {
   "cell_type": "code",
   "execution_count": 6,
   "id": "bca4e09b-eb96-4fd4-90b6-38074b8c48d4",
   "metadata": {},
   "outputs": [
    {
     "data": {
      "text/plain": [
       "{x: 2, y: 2}"
      ]
     },
     "execution_count": 6,
     "metadata": {},
     "output_type": "execute_result"
    }
   ],
   "source": [
    "#1a\n",
    "eq_16_1 = [sp.Eq(4*x+2*y, 12), \n",
    "          sp.Eq(6*x-2*y, 8)] #definerer en liste med ligningene\n",
    "sp.solve(eq_16_1, [x, y]) #løser mhp x og y direkte. Tidligere var de definert som \"unknown\""
   ]
  },
  {
   "cell_type": "code",
   "execution_count": 7,
   "id": "67c5b390-fa34-45e4-b77b-109270756a58",
   "metadata": {},
   "outputs": [
    {
     "data": {
      "text/plain": [
       "[(0, -4), (0, 4), (15, -1), (15, 1)]"
      ]
     },
     "execution_count": 7,
     "metadata": {},
     "output_type": "execute_result"
    }
   ],
   "source": [
    "#1a\n",
    "equations = [sp.Eq(x*y**2-x, 0),\n",
    "             sp.Eq(x+y**2, 16)]\n",
    "sp.solve(equations, [x, y]) #her får vi en liste med tuples, det vil si ulike kombinasjoner av  x og y som løser ligningene"
   ]
  },
  {
   "cell_type": "code",
   "execution_count": 8,
   "id": "b50c8a20-9618-4074-bf46-b5e1a7e6775b",
   "metadata": {},
   "outputs": [
    {
     "data": {
      "text/latex": [
       "$\\displaystyle 6 x^{2}$"
      ],
      "text/plain": [
       "6*x**2"
      ]
     },
     "execution_count": 8,
     "metadata": {},
     "output_type": "execute_result"
    }
   ],
   "source": [
    "#1d versjon1\n",
    "def d19(x):\n",
    "    return 2*x**3 + sp.sqrt(36) #definerer den som en funksjon. Bruker sqrt for å skrive inn rot\n",
    "sp.diff(d19(x), x) #deriverer mhp x"
   ]
  },
  {
   "cell_type": "code",
   "execution_count": 9,
   "id": "fa8b113d-6c31-4034-a3a8-5c3103d22612",
   "metadata": {},
   "outputs": [
    {
     "data": {
      "text/latex": [
       "$\\displaystyle 6 x^{2}$"
      ],
      "text/plain": [
       "6*x**2"
      ]
     },
     "execution_count": 9,
     "metadata": {},
     "output_type": "execute_result"
    }
   ],
   "source": [
    "#1d versjon 2\n",
    "sp.diff(2*x**3 + sp.sqrt(36), x) #vi kunne også srkevet ut ligningen direkte i"
   ]
  },
  {
   "cell_type": "code",
   "execution_count": 10,
   "id": "85988535-3da0-48e9-bb32-a6da2ce0b14f",
   "metadata": {},
   "outputs": [
    {
     "data": {
      "text/latex": [
       "$\\displaystyle \\sqrt[3]{x^{12}}$"
      ],
      "text/plain": [
       "(x**12)**(1/3)"
      ]
     },
     "execution_count": 10,
     "metadata": {},
     "output_type": "execute_result"
    }
   ],
   "source": [
    "#1a\n",
    "x = sp.symbols(\"x\")\n",
    "sp.root(x**12, 3) # slik det står i oppgaven. Her bruker vi \"root\" fordi vi må sette roten til 3"
   ]
  },
  {
   "cell_type": "code",
   "execution_count": 11,
   "id": "6ea6827f-b999-44bb-bffc-1ee236d68a21",
   "metadata": {},
   "outputs": [
    {
     "data": {
      "text/latex": [
       "$\\displaystyle x^{4}$"
      ],
      "text/plain": [
       "x**4"
      ]
     },
     "execution_count": 11,
     "metadata": {},
     "output_type": "execute_result"
    }
   ],
   "source": [
    "#1a fortsettelse\n",
    "x = sp.symbols(\"x\", positive=True) #sympy gjør forenklingen for oss, men kun hvis den vet at det ikke finnes andre løsninger. Hvis vi spesifiserer at det vi opererer med positive tall, gjør sympy det for oss\n",
    "sp.root(x**12, 3) "
   ]
  },
  {
   "cell_type": "code",
   "execution_count": 12,
   "id": "e26215a1-1c1e-4ba9-849c-4add4f7a6131",
   "metadata": {},
   "outputs": [
    {
     "data": {
      "text/latex": [
       "$\\displaystyle \\frac{x^{2} - 4 x - 10}{x^{2} - 4 x + 4}$"
      ],
      "text/plain": [
       "(x**2 - 4*x - 10)/(x**2 - 4*x + 4)"
      ]
     },
     "execution_count": 12,
     "metadata": {},
     "output_type": "execute_result"
    }
   ],
   "source": [
    "#1m\n",
    "solved = sp.diff((x**2+4*x +2)/(x-2), x) #deriverer mhp x\n",
    "sp.simplify(solved) #ønsker å lage et penere uttrykk, og bruker derfor \"simplify\""
   ]
  },
  {
   "cell_type": "code",
   "execution_count": 13,
   "id": "66f0f3cc-eb24-4628-b36c-8eb992709b52",
   "metadata": {},
   "outputs": [
    {
     "data": {
      "text/latex": [
       "$\\displaystyle \\frac{2 x}{\\sqrt{2 x^{2} + 5}}$"
      ],
      "text/plain": [
       "2*x/sqrt(2*x**2 + 5)"
      ]
     },
     "execution_count": 13,
     "metadata": {},
     "output_type": "execute_result"
    }
   ],
   "source": [
    "#b\n",
    "sp.diff(sp.sqrt(2*x**2 +5), x) #deriverer mhp x"
   ]
  },
  {
   "cell_type": "code",
   "execution_count": 14,
   "id": "aa1d35a0-2c01-4831-afc0-c99589fd6153",
   "metadata": {},
   "outputs": [
    {
     "data": {
      "text/latex": [
       "$\\displaystyle - 2 e^{- 2 x}$"
      ],
      "text/plain": [
       "-2*exp(-2*x)"
      ]
     },
     "execution_count": 14,
     "metadata": {},
     "output_type": "execute_result"
    }
   ],
   "source": [
    "#b\n",
    "sp.diff(sp.exp(-2*x), x)# bruker sp.exp for å få frem eskponentialfunksjonen med grunntall e "
   ]
  },
  {
   "cell_type": "code",
   "execution_count": 15,
   "id": "e8ad1f0d-c8c2-4e30-bf66-44f36c1d60a2",
   "metadata": {},
   "outputs": [
    {
     "data": {
      "text/latex": [
       "$\\displaystyle \\frac{1}{x}$"
      ],
      "text/plain": [
       "1/x"
      ]
     },
     "execution_count": 15,
     "metadata": {},
     "output_type": "execute_result"
    }
   ],
   "source": [
    "#c\n",
    "sp.diff(sp.log(12*x)-3, x)#bruker sp.log for å bruke logaritmen"
   ]
  }
 ],
 "metadata": {
  "kernelspec": {
   "display_name": "Python 3 (ipykernel)",
   "language": "python",
   "name": "python3"
  },
  "language_info": {
   "codemirror_mode": {
    "name": "ipython",
    "version": 3
   },
   "file_extension": ".py",
   "mimetype": "text/x-python",
   "name": "python",
   "nbconvert_exporter": "python",
   "pygments_lexer": "ipython3",
   "version": "3.9.13"
  }
 },
 "nbformat": 4,
 "nbformat_minor": 5
}
